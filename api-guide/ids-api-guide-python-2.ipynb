{
 "cells": [
  {
   "cell_type": "markdown",
   "metadata": {},
   "source": [
    "# Accessing International Debt Statistics (IDS) through World Bank Data API\n",
    "## Part 2 - Get and explore data\n",
    "### *Python 3*"
   ]
  },
  {
   "cell_type": "markdown",
   "metadata": {},
   "source": [
    "Date: 04/15/2020 <br>\n",
    "[Data source](https://datacatalog.worldbank.org/dataset/international-debt-statistics)<br>\n",
    "[Developer Information](https://datahelpdesk.worldbank.org/knowledgebase/topics/125589-developer-information)<br>\n",
    "[GitHub](https://github.com/worldbank/debt-data/tree/master/api-guide)"
   ]
  },
  {
   "cell_type": "markdown",
   "metadata": {},
   "source": [
    "This is second part of a two-part series on accessing the International Debt Statistics (IDS) database through the World Bank Data API. In [Part 1](https://worldbank.github.io/debt-data/api-guide/ids-api-guide-python-1.html), we queried the World Bank Data API to retrieve indicator names and location codes. In this guide, we will use that information to explore the **regional trends of long-term external debt stocks** from the IDS database. \n",
    "\n",
    "The following code in this guide will show step-by-step how to:\n",
    "\n",
    "1. Setup up your environment with the needed packages\n",
    "2. Input your data specifications (as selected in [Part 1](https://worldbank.github.io/debt-data/api-guide/ids-api-guide-python-1.html))\n",
    "3. Use the World Bank Data API call to return the specified data\n",
    "4. Explore the data through basic descriptive analysis and create a pretty chart."
   ]
  },
  {
   "cell_type": "markdown",
   "metadata": {},
   "source": [
    "## 1. Setup\n",
    "To start, make sure you have the following packages installed on your machine. If you aren't familiar with how to install a Python package, visit each of the linked packages below for instructions.\n",
    "- [pandas](https://pandas.pydata.org/): Data analysis\n",
    "- [numpy](https://www.numpy.org/): Data analysis\n",
    "- [datetime](https://docs.python.org/3.5/library/datetime.html): Parsing dates\n",
    "- [wbdata](https://wbdata.readthedocs.io/en/latest/#): World Bank Data API wrapper\n",
    "- [plotly](https://plot.ly/python/): Data visualization\n",
    "\n",
    "Then, open up your preferred mode of writing Python. This could be in a [Jupyter Notebook](https://jupyter.org/) using [Jupyter Lab](https://blog.jupyter.org/jupyterlab-is-ready-for-users-5a6f039b8906), using a code editor (like Atom or Visual Studio) + command line, or just from the command line. Now follow the rest of the steps below to retreive and analyze the World Bank data."
   ]
  },
  {
   "cell_type": "code",
   "execution_count": 1,
   "metadata": {},
   "outputs": [],
   "source": [
    "# Importing packages\n",
    "import pandas as pd\n",
    "import numpy as np\n",
    "import datetime\n",
    "import wbdata\n",
    "import plotly.express as px\n",
    "import plotly.io as pio\n",
    "pio.renderers.default = \"notebook\" # use \"pio.renderers\" to see the default renderer"
   ]
  },
  {
   "cell_type": "markdown",
   "metadata": {},
   "source": [
    "## 2. Data Specifications\n",
    "You will specify the data you want to explore using the following parameters:\n",
    "- **Indicator(s)**: The indicator code(s) for the data\n",
    "- **Location(s)**: The location code(s) for the countries, regions, or income level categories\n",
    "- **Time**: Years\n",
    "- **Source**: [The World Bank API source](https://datahelpdesk.worldbank.org/knowledgebase/articles/1886686-advanced-data-api-queries)"
   ]
  },
  {
   "cell_type": "markdown",
   "metadata": {},
   "source": [
    "#### Indicator(s)\n",
    "In this guide, we will be looking at \"long-term external debt stock\" from the IDS database. To find the indicator for the data in which you're interested, you can either explore the [World Bank data catalog](https://datacatalog.worldbank.org/dataset/international-debt-statistics) or use an API query as outlined in [Part 1](https://worldbank.github.io/debt-data/api-guide/ids-api-guide-python-1.html) of this series. You can also view the IDS indicators and codes in their hierarchical order on our [data tables](http://datatopics.worldbank.org/debt/ids/). The Analytical view shows the select indicators from the IDS publication and the Standard view shows all available indicators."
   ]
  },
  {
   "cell_type": "code",
   "execution_count": 2,
   "metadata": {},
   "outputs": [],
   "source": [
    "# Selecting the indicator\n",
    "indicatorSelection = {\"DT.DOD.DLXF.CD\":\"ExternalDebtStock\"}"
   ]
  },
  {
   "cell_type": "markdown",
   "metadata": {},
   "source": [
    "The text that follows the indicator code (in this case, \"ExternalDebtStock\") should be a description that helps that you correctly identify the indicator. To call more than one indicator, add more indicator names and descriptions to the dictionary."
   ]
  },
  {
   "cell_type": "markdown",
   "metadata": {},
   "source": [
    "#### Location(s)\n",
    "To select a location by country, region, or income level category you will need to know its 2 or 3 letter code. To figure out what this code is, you can either use an API query as outlined in [Part 1](https://worldbank.github.io/debt-data/api-guide/ids-api-guide-python-1.html) of this series or use the convenient [location-codes csv](https://github.com/worldbank/debt-data/blob/master/api-guide/location-codes.csv)* in this repo. \n",
    "\n",
    "We will select regional aggregates (these exclude high-income countries):\n",
    "- ECA: Europe & Central Asia\n",
    "- SSA: Sub-Saharan Africa\n",
    "- SAS: South Asia\n",
    "- LAC: Latin America & the Caribbean\n",
    "- MNA: Middle East & North Africa\n",
    "- EAP: East Asia & Pacific\n",
    "\n",
    "\n",
    "###### *The location-codes csv was created using the API query: http://api.worldbank.org/v2/country?per_page=500&format=json&source=6"
   ]
  },
  {
   "cell_type": "code",
   "execution_count": 3,
   "metadata": {},
   "outputs": [],
   "source": [
    "# Select the countries or regions\n",
    "locationSelection = [\"ECA\",\"SSA\",\"SAS\",\"LAC\",\"MNA\",\"EAP\"]"
   ]
  },
  {
   "cell_type": "markdown",
   "metadata": {},
   "source": [
    "#### Time\n",
    "Here you will select the time frame for your data series. The format for the date is year, month, day. We are selecting data from 2009 to 2018."
   ]
  },
  {
   "cell_type": "code",
   "execution_count": 4,
   "metadata": {},
   "outputs": [],
   "source": [
    "# Selecting the time frame\n",
    "timeSelection = (datetime.datetime(2009, 1, 1), datetime.datetime(2018, 12, 31))"
   ]
  },
  {
   "cell_type": "markdown",
   "metadata": {},
   "source": [
    "#### Source\n",
    "The World Bank Data API has numerous sources, including one specific to International Debt Statistics. As identified in [Part 1](https://worldbank.github.io/debt-data/api-guide/ids-api-guide-python-1.html), IDS has a source ID of 6."
   ]
  },
  {
   "cell_type": "code",
   "execution_count": 5,
   "metadata": {},
   "outputs": [
    {
     "ename": "TypeError",
     "evalue": "get_source() got an unexpected keyword argument 'display'",
     "output_type": "error",
     "traceback": [
      "\u001b[0;31m---------------------------------------------------------------------------\u001b[0m",
      "\u001b[0;31mTypeError\u001b[0m                                 Traceback (most recent call last)",
      "\u001b[0;32m<ipython-input-5-1347e3e0174a>\u001b[0m in \u001b[0;36m<module>\u001b[0;34m\u001b[0m\n\u001b[0;32m----> 1\u001b[0;31m \u001b[0mIDS\u001b[0m \u001b[0;34m=\u001b[0m \u001b[0mwbdata\u001b[0m\u001b[0;34m.\u001b[0m\u001b[0mget_source\u001b[0m\u001b[0;34m(\u001b[0m\u001b[0msource_id\u001b[0m\u001b[0;34m=\u001b[0m\u001b[0;36m6\u001b[0m\u001b[0;34m,\u001b[0m \u001b[0mdisplay\u001b[0m\u001b[0;34m=\u001b[0m\u001b[0;32mNone\u001b[0m\u001b[0;34m)\u001b[0m\u001b[0;34m\u001b[0m\u001b[0;34m\u001b[0m\u001b[0m\n\u001b[0m",
      "\u001b[0;31mTypeError\u001b[0m: get_source() got an unexpected keyword argument 'display'"
     ]
    }
   ],
   "source": [
    "IDS = wbdata.get_source(source_id=6, display=None)"
   ]
  },
  {
   "cell_type": "markdown",
   "metadata": {},
   "source": [
    "## 3. API Call"
   ]
  },
  {
   "cell_type": "markdown",
   "metadata": {},
   "source": [
    "In this step, we will retrieve the data using the World Bank Data API call. The package \"wbdata,\" created by Oliver Sherouse, can request information from the World Bank database as a dictionary containing full metadata or as a pandas DataFrame. In this example, we will request the data, with the parameters outlined above, as a pandas DataFrame."
   ]
  },
  {
   "cell_type": "code",
   "execution_count": null,
   "metadata": {},
   "outputs": [],
   "source": [
    "# Making the API call and assigning the resulting DataFrame to \"EXD\"\n",
    "EXD = wbdata.get_dataframe(indicatorSelection,\n",
    "                            source=IDS,\n",
    "                            country = locationSelection, \n",
    "                            data_date = timeSelection, \n",
    "                            convert_date = False)"
   ]
  },
  {
   "cell_type": "markdown",
   "metadata": {},
   "source": [
    "If you want a quick preview of your freshly retrieved DataFrame, you can print the first 5 lines"
   ]
  },
  {
   "cell_type": "code",
   "execution_count": null,
   "metadata": {},
   "outputs": [],
   "source": [
    "# Print the first 5 lines of the DataFrame\n",
    "print(EXD.head())"
   ]
  },
  {
   "cell_type": "markdown",
   "metadata": {},
   "source": [
    "## 4. Explore the data!\n",
    "Congratulations! At this point you should have the **long-term external debt stock** for **regions** (excluding high-income economies) from **2009 - 2018** all in a DataFrame called \"EXD.\"\n",
    "\n",
    "Now we can do the following:\n",
    "- **Data Cleaning**: Clean up the format to use in a table or populate a visualization\n",
    "- **Visualization**: Create a simple chart"
   ]
  },
  {
   "cell_type": "markdown",
   "metadata": {},
   "source": [
    "#### Data Cleaning\n",
    "As you saw in the preview of the data in section 3, the DataFrame's format needs to be cleaned up. We want to reshape the data. This will get it ready to present in a table or in a visualization."
   ]
  },
  {
   "cell_type": "code",
   "execution_count": null,
   "metadata": {},
   "outputs": [],
   "source": [
    "# Reshape the data\n",
    "EXDreshaped = pd.DataFrame(EXD.to_records())"
   ]
  },
  {
   "cell_type": "markdown",
   "metadata": {},
   "source": [
    "The data for the long-term external debt stock is currently in units. To improve a table's or chart's readability, convert the units to billions and round the number to 0 decimal places. To do this, create a function called \"formatNum\" that you can then run on your DataFrame."
   ]
  },
  {
   "cell_type": "code",
   "execution_count": null,
   "metadata": {},
   "outputs": [],
   "source": [
    "# Creating a function that will change units to billions and round to 0 decimal places\n",
    "def formatNum(x):\n",
    "    y = x/1000000000\n",
    "    z = round(y)\n",
    "    return(z)\n",
    "\n",
    "# Running the function on the desired data column\n",
    "EXDreshaped.ExternalDebtStock = formatNum(EXDreshaped.ExternalDebtStock)"
   ]
  },
  {
   "cell_type": "markdown",
   "metadata": {},
   "source": [
    "These next two sections of code will clean up the naming of headers and regions. First, it will rename the column headers. Second, it will remove the redundant \"(excluding high income)\" from the region names. We can instead include that information in the title of the chart."
   ]
  },
  {
   "cell_type": "code",
   "execution_count": null,
   "metadata": {},
   "outputs": [],
   "source": [
    "# Renaming column headers\n",
    "EXDclean = EXDreshaped.rename(index=str, columns={\n",
    "    \"date\":\"Year\",\n",
    "    \"country\":\"Region\",\n",
    "})"
   ]
  },
  {
   "cell_type": "code",
   "execution_count": null,
   "metadata": {},
   "outputs": [],
   "source": [
    "# Remove the \"(excluding high income)\" from each of the region names\n",
    "EXDclean[\"Region\"] = EXDclean[\"Region\"].str.replace(\"excluding high income\",\"\").str.replace(\")\",\"\").str.replace(\"(\",\"\")"
   ]
  },
  {
   "cell_type": "markdown",
   "metadata": {},
   "source": [
    "Now our data should be ready to present in a table or visualize in a chart. Let's take a look at the first five lines again so we can compare the cleaned up data to the raw output in section 3."
   ]
  },
  {
   "cell_type": "code",
   "execution_count": null,
   "metadata": {},
   "outputs": [],
   "source": [
    "print(EXDclean.head())"
   ]
  },
  {
   "cell_type": "markdown",
   "metadata": {},
   "source": [
    "#### Data Visualization\n",
    "\n",
    "Now use the package \"plotly\" to create a basic line graph of the regional trends in long-term external debt stock."
   ]
  },
  {
   "cell_type": "code",
   "execution_count": null,
   "metadata": {},
   "outputs": [],
   "source": [
    "# Defining the data source\n",
    "source = EXDclean\n",
    "\n",
    "# Creating the chart\n",
    "chart = px.line(EXDclean, \n",
    "                x=\"Year\",\n",
    "                y=\"ExternalDebtStock\",\n",
    "                color=\"Region\",\n",
    "                title=\"Regional Long-term External Debt Stock (excluding High-Income countries)(USD billion)\")\n",
    "chart.update_layout(\n",
    "                plot_bgcolor=\"white\")\n",
    "\n",
    "# Displaying the chart\n",
    "chart"
   ]
  }
 ],
 "metadata": {
  "kernelspec": {
   "display_name": "Python 3",
   "language": "python",
   "name": "python3"
  },
  "language_info": {
   "codemirror_mode": {
    "name": "ipython",
    "version": 3
   },
   "file_extension": ".py",
   "mimetype": "text/x-python",
   "name": "python",
   "nbconvert_exporter": "python",
   "pygments_lexer": "ipython3",
   "version": "3.7.10"
  }
 },
 "nbformat": 4,
 "nbformat_minor": 2
}
