{
 "cells": [
  {
   "cell_type": "code",
   "execution_count": 1,
   "id": "e8a9c41d",
   "metadata": {},
   "outputs": [],
   "source": [
    "import numpy as np\n",
    "import pandas as pd\n",
    "import requests\n",
    "import json"
   ]
  },
  {
   "cell_type": "code",
   "execution_count": 2,
   "id": "6c5e9466",
   "metadata": {},
   "outputs": [],
   "source": [
    "import wbgapi as wb"
   ]
  },
  {
   "cell_type": "code",
   "execution_count": 3,
   "id": "e8471848",
   "metadata": {},
   "outputs": [
    {
     "data": {
      "text/html": [
       "<div class=\"wbgapi\"><table>\n",
       "<thead>\n",
       "<tr><th>id  </th><th>name                                                                </th><th>code  </th><th style=\"text-align: right;\">  concepts</th><th>lastupdated  </th></tr>\n",
       "</thead>\n",
       "<tbody>\n",
       "<tr><td>1   </td><td>Doing Business                                                      </td><td>DBS   </td><td style=\"text-align: right;\">         3</td><td>2021-08-18   </td></tr>\n",
       "<tr><td>2   </td><td>World Development Indicators                                        </td><td>WDI   </td><td style=\"text-align: right;\">         3</td><td>2021-12-16   </td></tr>\n",
       "<tr><td>3   </td><td>Worldwide Governance Indicators                                     </td><td>WGI   </td><td style=\"text-align: right;\">         3</td><td>2021-09-27   </td></tr>\n",
       "<tr><td>5   </td><td>Subnational Malnutrition Database                                   </td><td>SNM   </td><td style=\"text-align: right;\">         3</td><td>2016-03-21   </td></tr>\n",
       "<tr><td>6   </td><td>International Debt Statistics                                       </td><td>IDS   </td><td style=\"text-align: right;\">         4</td><td>2022-01-14   </td></tr>\n",
       "<tr><td>11  </td><td>Africa Development Indicators                                       </td><td>ADI   </td><td style=\"text-align: right;\">         3</td><td>2013-02-22   </td></tr>\n",
       "<tr><td>12  </td><td>Education Statistics                                                </td><td>EDS   </td><td style=\"text-align: right;\">         3</td><td>2020-12-20   </td></tr>\n",
       "<tr><td>13  </td><td>Enterprise Surveys                                                  </td><td>ESY   </td><td style=\"text-align: right;\">         3</td><td>2021-04-02   </td></tr>\n",
       "<tr><td>14  </td><td>Gender Statistics                                                   </td><td>GDS   </td><td style=\"text-align: right;\">         3</td><td>2021-12-18   </td></tr>\n",
       "<tr><td>15  </td><td>Global Economic Monitor                                             </td><td>GEM   </td><td style=\"text-align: right;\">         3</td><td>2020-07-27   </td></tr>\n",
       "<tr><td>16  </td><td>Health Nutrition and Population Statistics                          </td><td>HNP   </td><td style=\"text-align: right;\">         3</td><td>2021-12-17   </td></tr>\n",
       "<tr><td>18  </td><td>IDA Results Measurement System                                      </td><td>IDA   </td><td style=\"text-align: right;\">         3</td><td>2021-07-23   </td></tr>\n",
       "<tr><td>19  </td><td>Millennium Development Goals                                        </td><td>MDG   </td><td style=\"text-align: right;\">         3</td><td>2018-09-19   </td></tr>\n",
       "<tr><td>20  </td><td>Quarterly Public Sector Debt                                        </td><td>PSD   </td><td style=\"text-align: right;\">         3</td><td>2022-01-24   </td></tr>\n",
       "<tr><td>22  </td><td>Quarterly External Debt Statistics SDDS                             </td><td>QDS   </td><td style=\"text-align: right;\">         3</td><td>2022-01-28   </td></tr>\n",
       "<tr><td>23  </td><td>Quarterly External Debt Statistics GDDS                             </td><td>QDG   </td><td style=\"text-align: right;\">         3</td><td>2022-01-28   </td></tr>\n",
       "<tr><td>24  </td><td>Poverty and Equity                                                  </td><td>POV   </td><td style=\"text-align: right;\">         3</td><td>2021-10-05   </td></tr>\n",
       "<tr><td>25  </td><td>Jobs                                                                </td><td>JOB   </td><td style=\"text-align: right;\">         3</td><td>2021-02-17   </td></tr>\n",
       "<tr><td>27  </td><td>Global Economic Prospects                                           </td><td>GEP   </td><td style=\"text-align: right;\">         3</td><td>2022-01-11   </td></tr>\n",
       "<tr><td>28  </td><td>Global Financial Inclusion                                          </td><td>FDX   </td><td style=\"text-align: right;\">         3</td><td>2018-10-15   </td></tr>\n",
       "<tr><td>29  </td><td>The Atlas of Social Protection: Indicators of Resilience and Equity </td><td>GSP   </td><td style=\"text-align: right;\">         3</td><td>2021-12-20   </td></tr>\n",
       "<tr><td>30  </td><td>Exporter Dynamics Database – Indicators at Country-Year Level       </td><td>ED1   </td><td style=\"text-align: right;\">         3</td><td>2016-03-31   </td></tr>\n",
       "<tr><td>31  </td><td>Country Policy and Institutional Assessment                         </td><td>CPI   </td><td style=\"text-align: right;\">         3</td><td>2021-09-16   </td></tr>\n",
       "<tr><td>32  </td><td>Global Financial Development                                        </td><td>GFD   </td><td style=\"text-align: right;\">         3</td><td>2021-12-03   </td></tr>\n",
       "<tr><td>33  </td><td>G20 Financial Inclusion Indicators                                  </td><td>G2F   </td><td style=\"text-align: right;\">         3</td><td>2019-02-27   </td></tr>\n",
       "<tr><td>34  </td><td>Global Partnership for Education                                    </td><td>GPE   </td><td style=\"text-align: right;\">         3</td><td>2013-04-12   </td></tr>\n",
       "<tr><td>35  </td><td>Sustainable Energy for All                                          </td><td>SE4   </td><td style=\"text-align: right;\">         3</td><td>2018-06-30   </td></tr>\n",
       "<tr><td>36  </td><td>Statistical Capacity Indicators                                     </td><td>BBS   </td><td style=\"text-align: right;\">         3</td><td>2021-02-03   </td></tr>\n",
       "<tr><td>37  </td><td>LAC Equity Lab                                                      </td><td>LEL   </td><td style=\"text-align: right;\">         3</td><td>2016-04-06   </td></tr>\n",
       "<tr><td>38  </td><td>Subnational Poverty                                                 </td><td>SNP   </td><td style=\"text-align: right;\">         3</td><td>2015-04-27   </td></tr>\n",
       "<tr><td>39  </td><td>Health Nutrition and Population Statistics by Wealth Quintile       </td><td>HNQ   </td><td style=\"text-align: right;\">         3</td><td>2021-12-13   </td></tr>\n",
       "<tr><td>40  </td><td>Population estimates and projections                                </td><td>HPP   </td><td style=\"text-align: right;\">         3</td><td>2021-12-17   </td></tr>\n",
       "<tr><td>41  </td><td>Country Partnership Strategy for India (FY2013 - 17)                </td><td>CPS   </td><td style=\"text-align: right;\">         3</td><td>2015-05-22   </td></tr>\n",
       "<tr><td>43  </td><td>Adjusted Net Savings                                                </td><td>WAT   </td><td style=\"text-align: right;\">         3</td><td>2021-04-27   </td></tr>\n",
       "<tr><td>45  </td><td>Indonesia Database for Policy and Economic Research                 </td><td>IDD   </td><td style=\"text-align: right;\">         3</td><td>2019-05-07   </td></tr>\n",
       "<tr><td>46  </td><td>Sustainable Development Goals                                       </td><td>SDG   </td><td style=\"text-align: right;\">         3</td><td>2021-07-02   </td></tr>\n",
       "<tr><td>50  </td><td>Subnational Population                                              </td><td>SNT   </td><td style=\"text-align: right;\">         3</td><td>2017-09-21   </td></tr>\n",
       "<tr><td>54  </td><td>Joint External Debt Hub                                             </td><td>JED   </td><td style=\"text-align: right;\">         3</td><td>2022-01-28   </td></tr>\n",
       "<tr><td>57  </td><td>WDI Database Archives                                               </td><td>WDA   </td><td style=\"text-align: right;\">         4</td><td>2022-01-13   </td></tr>\n",
       "<tr><td>58  </td><td>Universal Health Coverage                                           </td><td>UHC   </td><td style=\"text-align: right;\">         3</td><td>2019-04-25   </td></tr>\n",
       "<tr><td>59  </td><td>Wealth Accounts                                                     </td><td>WAC   </td><td style=\"text-align: right;\">         3</td><td>2021-10-27   </td></tr>\n",
       "<tr><td>60  </td><td>Economic Fitness                                                    </td><td>EFT   </td><td style=\"text-align: right;\">         3</td><td>2018-04-19   </td></tr>\n",
       "<tr><td>61  </td><td>PPPs Regulatory Quality                                             </td><td>PRQ   </td><td style=\"text-align: right;\">         3</td><td>2019-04-25   </td></tr>\n",
       "<tr><td>62  </td><td>International Comparison Program (ICP) 2011                         </td><td>ICP   </td><td style=\"text-align: right;\">         4</td><td>2020-08-24   </td></tr>\n",
       "<tr><td>63  </td><td>Human Capital Index                                                 </td><td>HCI   </td><td style=\"text-align: right;\">         3</td><td>2020-09-21   </td></tr>\n",
       "<tr><td>64  </td><td>Worldwide Bureaucracy Indicators                                    </td><td>WBI   </td><td style=\"text-align: right;\">         3</td><td>2021-05-26   </td></tr>\n",
       "<tr><td>65  </td><td>Health Equity and Financial Protection Indicators                   </td><td>HPI   </td><td style=\"text-align: right;\">         3</td><td>2019-11-06   </td></tr>\n",
       "<tr><td>66  </td><td>Logistics Performance Index                                         </td><td>LPI   </td><td style=\"text-align: right;\">         3</td><td>2019-10-29   </td></tr>\n",
       "<tr><td>67  </td><td>PEFA 2011                                                           </td><td>PF1   </td><td style=\"text-align: right;\">         4</td><td>2022-01-13   </td></tr>\n",
       "<tr><td>68  </td><td>PEFA 2016                                                           </td><td>PF6   </td><td style=\"text-align: right;\">         4</td><td>2022-01-13   </td></tr>\n",
       "<tr><td>69  </td><td>Global Financial Inclusion and Consumer Protection Survey           </td><td>RFA   </td><td style=\"text-align: right;\">         3</td><td>2019-06-27   </td></tr>\n",
       "<tr><td>70  </td><td>Economic Fitness 2                                                  </td><td>EF2   </td><td style=\"text-align: right;\">         3</td><td>2019-04-26   </td></tr>\n",
       "<tr><td>71  </td><td>International Comparison Program (ICP) 2005                         </td><td>IC5   </td><td style=\"text-align: right;\">         4</td><td>2021-09-10   </td></tr>\n",
       "<tr><td>73  </td><td>Global Financial Inclusion and Consumer Protection Survey (Internal)</td><td>RFI   </td><td style=\"text-align: right;\">         3</td><td>2019-06-27   </td></tr>\n",
       "<tr><td>75  </td><td>Environment, Social and Governance (ESG) Data                       </td><td>ESG   </td><td style=\"text-align: right;\">         3</td><td>2021-10-28   </td></tr>\n",
       "<tr><td>76  </td><td>Remittance Prices Worldwide (Sending Countries)                     </td><td>RWS   </td><td style=\"text-align: right;\">         3</td><td>2020-12-07   </td></tr>\n",
       "<tr><td>77  </td><td>Remittance Prices Worldwide (Receiving Countries)                   </td><td>RWR   </td><td style=\"text-align: right;\">         3</td><td>2020-12-07   </td></tr>\n",
       "<tr><td>78  </td><td>ICP 2017                                                            </td><td>IC7   </td><td style=\"text-align: right;\">         4</td><td>2020-10-21   </td></tr>\n",
       "<tr><td>79  </td><td>PEFA_GRPFM                                                          </td><td>GRP   </td><td style=\"text-align: right;\">         4</td><td>2021-10-27   </td></tr>\n",
       "<tr><td>80  </td><td>Gender Disaggregated Labor Database (GDLD)                          </td><td>GDL   </td><td style=\"text-align: right;\">         4</td><td>2020-07-25   </td></tr>\n",
       "<tr><td>81  </td><td>International Debt Statistics: DSSI                                 </td><td>DSI   </td><td style=\"text-align: right;\">         4</td><td>2021-12-16   </td></tr>\n",
       "<tr><td>82  </td><td>Global Public Procurement                                           </td><td>GPP   </td><td style=\"text-align: right;\">         3</td><td>2021-03-24   </td></tr>\n",
       "<tr><td>83  </td><td>Statistical Performance Indicators (SPI)                            </td><td>SPI   </td><td style=\"text-align: right;\">         3</td><td>2021-04-01   </td></tr>\n",
       "<tr><td>84  </td><td>Education Policy                                                    </td><td>EDP   </td><td style=\"text-align: right;\">         3</td><td>2021-05-11   </td></tr>\n",
       "<tr><td>85  </td><td>PEFA_2021_SNG                                                       </td><td>SNG   </td><td style=\"text-align: right;\">         4</td><td>2021-10-06   </td></tr>\n",
       "<tr><td>86  </td><td>Global Jobs Indicators Database (JOIN)                              </td><td>JON   </td><td style=\"text-align: right;\">         3</td><td>2021-09-24   </td></tr>\n",
       "<tr><td>87  </td><td>Country Climate and Development Report (CCDR)                       </td><td>CCD   </td><td style=\"text-align: right;\">         3</td><td>2021-12-17   </td></tr>\n",
       "<tr><td>88  </td><td>FPN Data Hub                                                        </td><td>FPN   </td><td style=\"text-align: right;\">         4</td><td>2022-01-31   </td></tr>\n",
       "<tr><td>    </td><td>68 elements                                                         </td><td>      </td><td style=\"text-align: right;\">          </td><td>             </td></tr>\n",
       "</tbody>\n",
       "</table></div>"
      ],
      "text/plain": [
       "id    name                                                                  code      concepts  lastupdated\n",
       "----  --------------------------------------------------------------------  ------  ----------  -------------\n",
       "1     Doing Business                                                        DBS              3  2021-08-18\n",
       "2     World Development Indicators                                          WDI              3  2021-12-16\n",
       "3     Worldwide Governance Indicators                                       WGI              3  2021-09-27\n",
       "5     Subnational Malnutrition Database                                     SNM              3  2016-03-21\n",
       "6     International Debt Statistics                                         IDS              4  2022-01-14\n",
       "11    Africa Development Indicators                                         ADI              3  2013-02-22\n",
       "12    Education Statistics                                                  EDS              3  2020-12-20\n",
       "13    Enterprise Surveys                                                    ESY              3  2021-04-02\n",
       "14    Gender Statistics                                                     GDS              3  2021-12-18\n",
       "15    Global Economic Monitor                                               GEM              3  2020-07-27\n",
       "16    Health Nutrition and Population Statistics                            HNP              3  2021-12-17\n",
       "18    IDA Results Measurement System                                        IDA              3  2021-07-23\n",
       "19    Millennium Development Goals                                          MDG              3  2018-09-19\n",
       "20    Quarterly Public Sector Debt                                          PSD              3  2022-01-24\n",
       "22    Quarterly External Debt Statistics SDDS                               QDS              3  2022-01-28\n",
       "23    Quarterly External Debt Statistics GDDS                               QDG              3  2022-01-28\n",
       "24    Poverty and Equity                                                    POV              3  2021-10-05\n",
       "25    Jobs                                                                  JOB              3  2021-02-17\n",
       "27    Global Economic Prospects                                             GEP              3  2022-01-11\n",
       "28    Global Financial Inclusion                                            FDX              3  2018-10-15\n",
       "29    The Atlas of Social Protection: Indicators of Resilience and Equity   GSP              3  2021-12-20\n",
       "30    Exporter Dynamics Database – Indicators at Country-Year Level         ED1              3  2016-03-31\n",
       "31    Country Policy and Institutional Assessment                           CPI              3  2021-09-16\n",
       "32    Global Financial Development                                          GFD              3  2021-12-03\n",
       "33    G20 Financial Inclusion Indicators                                    G2F              3  2019-02-27\n",
       "34    Global Partnership for Education                                      GPE              3  2013-04-12\n",
       "35    Sustainable Energy for All                                            SE4              3  2018-06-30\n",
       "36    Statistical Capacity Indicators                                       BBS              3  2021-02-03\n",
       "37    LAC Equity Lab                                                        LEL              3  2016-04-06\n",
       "38    Subnational Poverty                                                   SNP              3  2015-04-27\n",
       "39    Health Nutrition and Population Statistics by Wealth Quintile         HNQ              3  2021-12-13\n",
       "40    Population estimates and projections                                  HPP              3  2021-12-17\n",
       "41    Country Partnership Strategy for India (FY2013 - 17)                  CPS              3  2015-05-22\n",
       "43    Adjusted Net Savings                                                  WAT              3  2021-04-27\n",
       "45    Indonesia Database for Policy and Economic Research                   IDD              3  2019-05-07\n",
       "46    Sustainable Development Goals                                         SDG              3  2021-07-02\n",
       "50    Subnational Population                                                SNT              3  2017-09-21\n",
       "54    Joint External Debt Hub                                               JED              3  2022-01-28\n",
       "57    WDI Database Archives                                                 WDA              4  2022-01-13\n",
       "58    Universal Health Coverage                                             UHC              3  2019-04-25\n",
       "59    Wealth Accounts                                                       WAC              3  2021-10-27\n",
       "60    Economic Fitness                                                      EFT              3  2018-04-19\n",
       "61    PPPs Regulatory Quality                                               PRQ              3  2019-04-25\n",
       "62    International Comparison Program (ICP) 2011                           ICP              4  2020-08-24\n",
       "63    Human Capital Index                                                   HCI              3  2020-09-21\n",
       "64    Worldwide Bureaucracy Indicators                                      WBI              3  2021-05-26\n",
       "65    Health Equity and Financial Protection Indicators                     HPI              3  2019-11-06\n",
       "66    Logistics Performance Index                                           LPI              3  2019-10-29\n",
       "67    PEFA 2011                                                             PF1              4  2022-01-13\n",
       "68    PEFA 2016                                                             PF6              4  2022-01-13\n",
       "69    Global Financial Inclusion and Consumer Protection Survey             RFA              3  2019-06-27\n",
       "70    Economic Fitness 2                                                    EF2              3  2019-04-26\n",
       "71    International Comparison Program (ICP) 2005                           IC5              4  2021-09-10\n",
       "73    Global Financial Inclusion and Consumer Protection Survey (Internal)  RFI              3  2019-06-27\n",
       "75    Environment, Social and Governance (ESG) Data                         ESG              3  2021-10-28\n",
       "76    Remittance Prices Worldwide (Sending Countries)                       RWS              3  2020-12-07\n",
       "77    Remittance Prices Worldwide (Receiving Countries)                     RWR              3  2020-12-07\n",
       "78    ICP 2017                                                              IC7              4  2020-10-21\n",
       "79    PEFA_GRPFM                                                            GRP              4  2021-10-27\n",
       "80    Gender Disaggregated Labor Database (GDLD)                            GDL              4  2020-07-25\n",
       "81    International Debt Statistics: DSSI                                   DSI              4  2021-12-16\n",
       "82    Global Public Procurement                                             GPP              3  2021-03-24\n",
       "83    Statistical Performance Indicators (SPI)                              SPI              3  2021-04-01\n",
       "84    Education Policy                                                      EDP              3  2021-05-11\n",
       "85    PEFA_2021_SNG                                                         SNG              4  2021-10-06\n",
       "86    Global Jobs Indicators Database (JOIN)                                JON              3  2021-09-24\n",
       "87    Country Climate and Development Report (CCDR)                         CCD              3  2021-12-17\n",
       "88    FPN Data Hub                                                          FPN              4  2022-01-31\n",
       "      68 elements"
      ]
     },
     "execution_count": 3,
     "metadata": {},
     "output_type": "execute_result"
    }
   ],
   "source": [
    "# wb.data.DataFrame(['SP.POP.TOTL', 'EN.ATM.CO2E.KT'], time=range(2000, 2020), skipBlanks=True, columns='series')\n",
    "wb.source.info()"
   ]
  },
  {
   "cell_type": "code",
   "execution_count": 9,
   "id": "dc077706",
   "metadata": {},
   "outputs": [
    {
     "name": "stdout",
     "output_type": "stream",
     "text": [
      "There are 1800 ExtDebt indicators\n"
     ]
    }
   ],
   "source": [
    "indicators = requests.get(\"http://api.worldbank.org/v2/indicator?format=json&source=22&per_page=1800\")\n",
    "indicatorsJSON = indicators.json()\n",
    "print(\"There are \" + str(indicatorsJSON[0][\"total\"]) + \" ExtDebt indicators\")"
   ]
  },
  {
   "cell_type": "code",
   "execution_count": 12,
   "id": "3388fc92",
   "metadata": {},
   "outputs": [],
   "source": [
    "ids={'Ext. Assets in Debt Instruments, General Government, All maturities, All instruments, USD': 'DT.DOD.DECT.CD.GG.AR.EA.US'}"
   ]
  },
  {
   "cell_type": "code",
   "execution_count": 11,
   "id": "58d10a76",
   "metadata": {
    "scrolled": true
   },
   "outputs": [],
   "source": [
    "# indicators.json()"
   ]
  },
  {
   "cell_type": "code",
   "execution_count": 6,
   "id": "cd945427",
   "metadata": {},
   "outputs": [
    {
     "name": "stdout",
     "output_type": "stream",
     "text": [
      "('DT.AMT.DEAE.CD.IL.03.US', 'Gross Ext. Debt Pmt, DI: Intercom Lending, More than 0 to 3, Debt liab. of dir. investors to DI ent., Principal, USD')\n",
      "('DT.AMT.DEAE.CD.IL.0912.US', 'Gross Ext. Debt Pmt, DI: Intercom Lending, More than 9 to 12, Debt liab. of dir. investors to DI ent., Principal, USD')\n",
      "('DT.AMT.DEAE.CD.IL.1218.US', 'Gross Ext. Debt Pmt, DI: Intercom Lending, More than 12 to 18, Debt liab. of dir. investors to DI ent., Principal, USD')\n",
      "('DT.AMT.DEAE.CD.IL.1824.US', 'Gross Ext. Debt Pmt, DI: Intercom Lending, More than 18 to 24, Debt liab. of dir. investors to DI ent., Principal, USD')\n",
      "('DT.AMT.DEAE.CD.IL.24P.US', 'Gross Ext. Debt Pmt, DI: Intercom Lending, More than 2yrs, Debt liab. of dir. investors to DI ent., Principal, USD')\n",
      "('DT.AMT.DEAE.CD.IL.36.US', 'Gross Ext. Debt Pmt, DI: Intercom Lending, More than 3 to 6, Debt liab. of dir. investors to DI ent., Principal, USD')\n",
      "('DT.AMT.DEAE.CD.IL.69.US', 'Gross Ext. Debt Pmt, DI: Intercom Lending, More than 6 to 9, Debt liab. of dir. investors to DI ent., Principal, USD')\n",
      "('DT.AMT.DEAE.CD.IL.IQ.US', 'Gross Ext. Debt Pmt, DI: Intercom Lending, Immediate, Debt liab. of dir. investors to DI ent., Principal, USD')\n",
      "('DT.AMT.DECT.CD.03.US', 'Ext. Debt Service Pmt, All Sectors, More than 0 to 3, All instruments, Principal, USD')\n",
      "('DT.AMT.DECT.CD.0912.US', 'Ext. Debt Service Pmt, All Sectors, More than 9 to 12, All instruments, Principal, USD')\n",
      "('DT.AMT.DECT.CD.1218.US', 'Ext. Debt Service Pmt, All Sectors, More than 12 to 18, All instruments, Principal, USD')\n",
      "('DT.AMT.DECT.CD.1824.US', 'Ext. Debt Service Pmt, All Sectors, More than 18 to 24, All instruments, Principal, USD')\n",
      "('DT.AMT.DECT.CD.24P.US', 'Ext. Debt Service Pmt, All Sectors, More than 2yrs, All instruments, Principal, USD')\n",
      "('DT.AMT.DECT.CD.36.US', 'Ext. Debt Service Pmt, All Sectors, More than 3 to 6, All instruments, Principal, USD')\n",
      "('DT.AMT.DECT.CD.69.US', 'Ext. Debt Service Pmt, All Sectors, More than 6 to 9, All instruments, Principal, USD')\n",
      "('DT.AMT.DECT.CD.AR.03.US', 'Gross Ext. Debt Pmt, All Sectors, More than 0 to 3, All instruments, Principal, USD')\n",
      "('DT.AMT.DECT.CD.AR.0912.US', 'Gross Ext. Debt Pmt, All Sectors, More than 9 to 12, All instruments, Principal, USD')\n",
      "('DT.AMT.DECT.CD.AR.1218.US', 'Gross Ext. Debt Pmt, All Sectors, More than 12 to 18, All instruments, Principal, USD')\n",
      "('DT.AMT.DECT.CD.AR.1824.US', 'Gross Ext. Debt Pmt, All Sectors, More than 18 to 24, All instruments, Principal, USD')\n",
      "('DT.AMT.DECT.CD.AR.24P.US', 'Gross Ext. Debt Pmt, All Sectors, More than 2yrs, All instruments, Principal, USD')\n",
      "('DT.AMT.DECT.CD.AR.36.US', 'Gross Ext. Debt Pmt, All Sectors, More than 3 to 6, All instruments, Principal, USD')\n",
      "('DT.AMT.DECT.CD.AR.69.US', 'Gross Ext. Debt Pmt, All Sectors, More than 6 to 9, All instruments, Principal, USD')\n",
      "('DT.AMT.DECT.CD.AR.IQ.US', 'Gross Ext. Debt Pmt, All Sectors, Immediate, All instruments, Principal, USD')\n",
      "('DT.AMT.DECT.CD.CB.03.US', 'Ext. Debt Service Pmt, Deposit-Taking Corp., exc. CB, More than 0 to 3, All instruments, Principal, USD')\n",
      "('DT.AMT.DECT.CD.CB.0912.US', 'Ext. Debt Service Pmt, Deposit-Taking Corp., exc. CB, More than 9 to 12, All instruments, Principal, USD')\n",
      "('DT.AMT.DECT.CD.CB.1218.US', 'Ext. Debt Service Pmt, Deposit-Taking Corp., exc. CB, More than 12 to 18, All instruments, Principal, USD')\n",
      "('DT.AMT.DECT.CD.CB.1824.US', 'Ext. Debt Service Pmt, Deposit-Taking Corp., exc. CB, More than 18 to 24, All instruments, Principal, USD')\n",
      "('DT.AMT.DECT.CD.CB.24P.US', 'Ext. Debt Service Pmt, Deposit-Taking Corp., exc. CB, More than 2yrs, All instruments, Principal, USD')\n",
      "('DT.AMT.DECT.CD.CB.36.US', 'Ext. Debt Service Pmt, Deposit-Taking Corp., exc. CB, More than 3 to 6, All instruments, Principal, USD')\n",
      "('DT.AMT.DECT.CD.CB.69.US', 'Ext. Debt Service Pmt, Deposit-Taking Corp., exc. CB, More than 6 to 9, All instruments, Principal, USD')\n",
      "('DT.AMT.DECT.CD.CB.IQ.US', 'Ext. Debt Service Pmt, Deposit-Taking Corp., exc. CB, Immediate, All instruments, Principal, USD')\n",
      "('DT.AMT.DECT.CD.CB.RM.US', 'Gross Ext. Debt Pos., Deposit-Taking Corp., exc. CB, One year or less, All instruments, Principal, USD')\n",
      "('DT.AMT.DECT.CD.GG.03.US', 'Ext. Debt Service Pmt, General Government, More than 0 to 3, All instruments, Principal, USD')\n",
      "('DT.AMT.DECT.CD.GG.0912.US', 'Ext. Debt Service Pmt, General Government, More than 9 to 12, All instruments, Principal, USD')\n",
      "('DT.AMT.DECT.CD.GG.1218.US', 'Ext. Debt Service Pmt, General Government, More than 12 to 18, All instruments, Principal, USD')\n",
      "('DT.AMT.DECT.CD.GG.1824.US', 'Ext. Debt Service Pmt, General Government, More than 18 to 24, All instruments, Principal, USD')\n",
      "('DT.AMT.DECT.CD.GG.24P.US', 'Ext. Debt Service Pmt, General Government, More than 2yrs, All instruments, Principal, USD')\n",
      "('DT.AMT.DECT.CD.GG.36.US', 'Ext. Debt Service Pmt, General Government, More than 3 to 6, All instruments, Principal, USD')\n",
      "('DT.AMT.DECT.CD.GG.69.US', 'Ext. Debt Service Pmt, General Government, More than 6 to 9, All instruments, Principal, USD')\n",
      "('DT.AMT.DECT.CD.GG.IQ.US', 'Ext. Debt Service Pmt, General Government, Immediate, All instruments, Principal, USD')\n",
      "('DT.AMT.DECT.CD.GG.RM.US', 'Gross Ext. Debt Pos., General Government, One year or less, All instruments, Principal, USD')\n",
      "('DT.AMT.DECT.CD.IL.03.US', 'Ext. Debt Service Pmt, DI: Intercom Lending, More than 0 to 3, All instruments, Principal, USD')\n",
      "('DT.AMT.DECT.CD.IL.0912.US', 'Ext. Debt Service Pmt, DI: Intercom Lending, More than 9 to 12, All instruments, Principal, USD')\n",
      "('DT.AMT.DECT.CD.IL.1218.US', 'Ext. Debt Service Pmt, DI: Intercom Lending, More than 12 to 18, All instruments, Principal, USD')\n",
      "('DT.AMT.DECT.CD.IL.1824.US', 'Ext. Debt Service Pmt, DI: Intercom Lending, More than 18 to 24, All instruments, Principal, USD')\n",
      "('DT.AMT.DECT.CD.IL.24P.US', 'Ext. Debt Service Pmt, DI: Intercom Lending, More than 2yrs, All instruments, Principal, USD')\n",
      "('DT.AMT.DECT.CD.IL.36.US', 'Ext. Debt Service Pmt, DI: Intercom Lending, More than 3 to 6, All instruments, Principal, USD')\n",
      "('DT.AMT.DECT.CD.IL.69.US', 'Ext. Debt Service Pmt, DI: Intercom Lending, More than 6 to 9, All instruments, Principal, USD')\n",
      "('DT.AMT.DECT.CD.IL.IQ.US', 'Ext. Debt Service Pmt, DI: Intercom Lending, Immediate, All instruments, Principal, USD')\n",
      "('DT.AMT.DECT.CD.IL.RM.US', 'Gross Ext. Debt Pos., DI: Intercom Lending, One year or less, All instruments, Principal, USD')\n"
     ]
    }
   ],
   "source": [
    "for i in indicatorsJSON[1]:\n",
    "    IDSindicators = (i[\"id\"],i[\"name\"])\n",
    "    print(IDSindicators) # to view the indicator ids and names, remove the \"#\" at the beginning of the print command"
   ]
  },
  {
   "cell_type": "code",
   "execution_count": 7,
   "id": "2b498dcd",
   "metadata": {},
   "outputs": [
    {
     "data": {
      "text/plain": [
       "50"
      ]
     },
     "execution_count": 7,
     "metadata": {},
     "output_type": "execute_result"
    }
   ],
   "source": [
    "len(indicatorsJSON[1])"
   ]
  },
  {
   "cell_type": "code",
   "execution_count": 8,
   "id": "ded2616a",
   "metadata": {},
   "outputs": [
    {
     "data": {
      "text/html": [
       "<div>\n",
       "<style scoped>\n",
       "    .dataframe tbody tr th:only-of-type {\n",
       "        vertical-align: middle;\n",
       "    }\n",
       "\n",
       "    .dataframe tbody tr th {\n",
       "        vertical-align: top;\n",
       "    }\n",
       "\n",
       "    .dataframe thead th {\n",
       "        text-align: right;\n",
       "    }\n",
       "</style>\n",
       "<table border=\"1\" class=\"dataframe\">\n",
       "  <thead>\n",
       "    <tr style=\"text-align: right;\">\n",
       "      <th></th>\n",
       "      <th>YR2000</th>\n",
       "      <th>YR2005</th>\n",
       "      <th>YR2010</th>\n",
       "      <th>YR2015</th>\n",
       "    </tr>\n",
       "    <tr>\n",
       "      <th>economy</th>\n",
       "      <th></th>\n",
       "      <th></th>\n",
       "      <th></th>\n",
       "      <th></th>\n",
       "    </tr>\n",
       "  </thead>\n",
       "  <tbody>\n",
       "    <tr>\n",
       "      <th>DEU</th>\n",
       "      <td>6.198531</td>\n",
       "      <td>10.150211</td>\n",
       "      <td>16.727074</td>\n",
       "      <td>29.231770</td>\n",
       "    </tr>\n",
       "    <tr>\n",
       "      <th>ESP</th>\n",
       "      <td>15.613726</td>\n",
       "      <td>14.601392</td>\n",
       "      <td>32.775543</td>\n",
       "      <td>34.949891</td>\n",
       "    </tr>\n",
       "    <tr>\n",
       "      <th>FRA</th>\n",
       "      <td>12.967876</td>\n",
       "      <td>9.860647</td>\n",
       "      <td>13.857359</td>\n",
       "      <td>15.857667</td>\n",
       "    </tr>\n",
       "    <tr>\n",
       "      <th>GBR</th>\n",
       "      <td>2.663105</td>\n",
       "      <td>4.283482</td>\n",
       "      <td>6.812813</td>\n",
       "      <td>24.840050</td>\n",
       "    </tr>\n",
       "    <tr>\n",
       "      <th>USA</th>\n",
       "      <td>8.205997</td>\n",
       "      <td>8.578466</td>\n",
       "      <td>10.120355</td>\n",
       "      <td>13.228593</td>\n",
       "    </tr>\n",
       "  </tbody>\n",
       "</table>\n",
       "</div>"
      ],
      "text/plain": [
       "            YR2000     YR2005     YR2010     YR2015\n",
       "economy                                            \n",
       "DEU       6.198531  10.150211  16.727074  29.231770\n",
       "ESP      15.613726  14.601392  32.775543  34.949891\n",
       "FRA      12.967876   9.860647  13.857359  15.857667\n",
       "GBR       2.663105   4.283482   6.812813  24.840050\n",
       "USA       8.205997   8.578466  10.120355  13.228593"
      ]
     },
     "execution_count": 8,
     "metadata": {},
     "output_type": "execute_result"
    }
   ],
   "source": [
    "wb.data.DataFrame('EG.ELC.RNEW.ZS',\n",
    "                      ['DEU','FRA','ESP','GBR','USA'],\n",
    "                      time=range(2000,2016,5))"
   ]
  }
 ],
 "metadata": {
  "kernelspec": {
   "display_name": "Python 3",
   "language": "python",
   "name": "python3"
  },
  "language_info": {
   "codemirror_mode": {
    "name": "ipython",
    "version": 3
   },
   "file_extension": ".py",
   "mimetype": "text/x-python",
   "name": "python",
   "nbconvert_exporter": "python",
   "pygments_lexer": "ipython3",
   "version": "3.7.10"
  }
 },
 "nbformat": 4,
 "nbformat_minor": 5
}
